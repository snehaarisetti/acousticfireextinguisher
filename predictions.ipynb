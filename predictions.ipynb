{
  "nbformat": 4,
  "nbformat_minor": 0,
  "metadata": {
    "colab": {
      "provenance": [],
      "authorship_tag": "ABX9TyOz+KsNtVIsVDQSVWrAtZe5",
      "include_colab_link": true
    },
    "kernelspec": {
      "name": "python3",
      "display_name": "Python 3"
    },
    "language_info": {
      "name": "python"
    }
  },
  "cells": [
    {
      "cell_type": "markdown",
      "metadata": {
        "id": "view-in-github",
        "colab_type": "text"
      },
      "source": [
        "<a href=\"https://colab.research.google.com/github/snehaarisetti/acousticfireextinguisher/blob/main/predictions.ipynb\" target=\"_parent\"><img src=\"https://colab.research.google.com/assets/colab-badge.svg\" alt=\"Open In Colab\"/></a>"
      ]
    },
    {
      "cell_type": "code",
      "execution_count": null,
      "metadata": {
        "colab": {
          "base_uri": "https://localhost:8080/",
          "height": 835
        },
        "id": "SsD79WR3-TiC",
        "outputId": "0e3b6b0a-0cca-4c1c-dbb6-f167f4a17a4e"
      },
      "outputs": [
        {
          "output_type": "stream",
          "name": "stdout",
          "text": [
            "Drive already mounted at /content/drive; to attempt to forcibly remount, call drive.mount(\"/content/drive\", force_remount=True).\n",
            "              SIZE      DISTANCE       DESIBEL       AIRFLOW     FREQUENCY  \\\n",
            "count  15390.00000  15390.000000  15390.000000  15390.000000  15390.000000   \n",
            "mean       3.00000    100.000000     96.379142      6.975634     31.611111   \n",
            "std        1.41426     54.774035      8.164128      4.736187     20.939229   \n",
            "min        1.00000     10.000000     72.000000      0.000000      1.000000   \n",
            "25%        2.00000     50.000000     90.000000      3.200000     14.000000   \n",
            "50%        3.00000    100.000000     95.000000      5.800000     27.500000   \n",
            "75%        4.00000    150.000000    104.000000     11.200000     47.000000   \n",
            "max        5.00000    190.000000    113.000000     17.000000     75.000000   \n",
            "\n",
            "             STATUS  \n",
            "count  15390.000000  \n",
            "mean       0.489669  \n",
            "std        0.499909  \n",
            "min        0.000000  \n",
            "25%        0.000000  \n",
            "50%        0.000000  \n",
            "75%        1.000000  \n",
            "max        1.000000  \n"
          ]
        },
        {
          "output_type": "display_data",
          "data": {
            "text/plain": [
              "<Figure size 640x480 with 1 Axes>"
            ],
            "image/png": "[encoded data removed]"
          },
          "metadata": {}
        }
      ],
      "source": [
        "import pandas as pd\n",
        "import matplotlib.pyplot as plt\n",
        "import seaborn as sns\n",
        "\n",
        "# Load the dataset\n",
        "\n",
        "df = pd.read_excel(\"acoustic_data.xlsx\")\n",
        "\n",
        "# Display basic statistics of numerical features\n",
        "print(df.describe())\n",
        "\n",
        "# Visualize class distribution\n",
        "sns.countplot(x='STATUS', data=df)\n",
        "plt.title(\"Class Distribution\")\n",
        "plt.show()"
      ]
    },
    {
      "cell_type": "code",
      "source": [
        "from sklearn.model_selection import train_test_split\n",
        "# Encoding categorical feature 'FUEL'\n",
        "df_encoded = pd.get_dummies(df, columns=['FUEL'], drop_first=True)\n",
        "# Split the dataset into features (X) and target (y)\n",
        "X = df_encoded.drop('STATUS', axis=1)  # Features\n",
        "y = df_encoded['STATUS']               # Target"
      ],
      "metadata": {
        "id": "S73QUkZBA-IX"
      },
      "execution_count": null,
      "outputs": []
    },
    {
      "cell_type": "code",
      "source": [
        "# Initialize scaler and fit-transform on features\n",
        "from sklearn.preprocessing import StandardScaler\n",
        "scaler = StandardScaler()\n",
        "X_scaled = scaler.fit_transform(X)"
      ],
      "metadata": {
        "id": "7q8WCYvRBpFO"
      },
      "execution_count": null,
      "outputs": []
    },
    {
      "cell_type": "code",
      "source": [
        "import numpy as np\n",
        "from sklearn.model_selection import StratifiedKFold\n",
        "from sklearn.metrics import accuracy_score\n",
        "\n",
        "# Define the sigmoid activation function and its derivative\n",
        "def sigmoid(x):\n",
        "    return 1 / (1 + np.exp(-x))\n",
        "\n",
        "def sigmoid_derivative(x):\n",
        "    return x * (1 - x)\n",
        "\n",
        "# Define the feedforward neural network class\n",
        "class NeuralNetwork:\n",
        "    def __init__(self, input_size, hidden_size, output_size):\n",
        "        self.input_size = input_size\n",
        "        self.hidden_size = hidden_size\n",
        "        self.output_size = output_size\n",
        "\n",
        "        # Initialize weights and biases\n",
        "        self.weights_input_hidden = np.random.randn(self.input_size, self.hidden_size)\n",
        "        self.bias_hidden = np.zeros((1, self.hidden_size))\n",
        "        self.weights_hidden_output = np.random.randn(self.hidden_size, self.output_size)\n",
        "        self.bias_output = np.zeros((1, self.output_size))\n",
        "\n",
        "    def forward(self, X):\n",
        "        # Compute hidden layer activations\n",
        "        self.hidden_activations = sigmoid(np.dot(X, self.weights_input_hidden) + self.bias_hidden)\n",
        "\n",
        "        # Compute output layer activations\n",
        "        self.output_activations = sigmoid(np.dot(self.hidden_activations, self.weights_hidden_output) + self.bias_output)\n",
        "\n",
        "        return self.output_activations\n",
        "\n",
        "    def backward(self, X, y, learning_rate):\n",
        "        # Compute output layer error and delta\n",
        "        output_error = y - self.output_activations\n",
        "        output_delta = output_error * sigmoid_derivative(self.output_activations)\n",
        "\n",
        "        # Compute hidden layer error and delta\n",
        "        hidden_error = output_delta.dot(self.weights_hidden_output.T)\n",
        "        hidden_delta = hidden_error * sigmoid_derivative(self.hidden_activations)\n",
        "\n",
        "        # Update weights and biases\n",
        "        self.weights_hidden_output += self.hidden_activations.T.dot(output_delta) * learning_rate\n",
        "        self.bias_output += np.sum(output_delta, axis=0, keepdims=True) * learning_rate\n",
        "        self.weights_input_hidden += X.T.dot(hidden_delta) * learning_rate\n",
        "        self.bias_hidden += np.sum(hidden_delta, axis=0, keepdims=True) * learning_rate\n",
        "\n",
        "    def train(self, X, y, epochs, learning_rate):\n",
        "        for epoch in range(epochs):\n",
        "            # Forward pass\n",
        "            output = self.forward(X)\n",
        "\n",
        "            # Backpropagation\n",
        "            self.backward(X, y, learning_rate)\n",
        "\n",
        "            if epoch % 100 == 0:\n",
        "                loss = np.mean(np.square(y - output))\n",
        "                print(f\"Epoch {epoch}, Loss: {loss:.4f}\")\n",
        "\n",
        "    def predict(self, X):\n",
        "        return (self.forward(X) >= 0.5).astype(int)\n",
        "\n",
        "# Initialize neural network\n",
        "input_size = X_train_scaled.shape[1]\n",
        "hidden_size = 8  # Choose based on experimentation\n",
        "output_size = 1\n",
        "nn = NeuralNetwork(input_size, hidden_size, output_size)\n",
        "\n",
        "# Perform cross-validation\n",
        "n_splits = 5  # Number of folds\n",
        "skf = StratifiedKFold(n_splits=n_splits, shuffle=True, random_state=42)\n",
        "\n",
        "accuracy_scores = []\n",
        "\n",
        "for train_index, val_index in skf.split(X_scaled, y):\n",
        "    # Split data into training and validation sets for this fold\n",
        "    X_train_fold, X_val_fold = X_scaled[train_index], X_scaled[val_index]\n",
        "    y_train_fold, y_val_fold = y[train_index], y[val_index]\n",
        "\n",
        "    # Train the neural network on the training fold\n",
        "    nn.train(X_train_fold, y_train_fold.values.reshape(-1, 1), epochs, learning_rate)\n",
        "\n",
        "    # Make predictions on the validation fold\n",
        "    y_pred_fold = nn.predict(X_val_fold)\n",
        "\n",
        "    # Calculate accuracy for this fold\n",
        "    accuracy_fold = accuracy_score(y_val_fold, y_pred_fold)\n",
        "    accuracy_scores.append(accuracy_fold)\n",
        "\n",
        "# Calculate average accuracy across all folds\n",
        "average_accuracy = np.mean(accuracy_scores)\n",
        "print(\"Average Accuracy:\", average_accuracy)"
      ],
      "metadata": {
        "colab": {
          "base_uri": "https://localhost:8080/"
        },
        "id": "Px4mjoWuBkuZ",
        "outputId": "eabab4f1-e6d4-43d6-8433-a241b1315fcd"
      },
      "execution_count": null,
      "outputs": [
        {
          "output_type": "stream",
          "name": "stdout",
          "text": [
            "Epoch 0, Loss: 0.2761\n",
            "Epoch 100, Loss: 0.0585\n",
            "Epoch 200, Loss: 0.0511\n",
            "Epoch 300, Loss: 0.0464\n",
            "Epoch 400, Loss: 0.0437\n",
            "Epoch 500, Loss: 0.0418\n",
            "Epoch 600, Loss: 0.0400\n",
            "Epoch 700, Loss: 0.0385\n",
            "Epoch 800, Loss: 0.0373\n",
            "Epoch 900, Loss: 0.0367\n",
            "Epoch 0, Loss: 0.0388\n",
            "Epoch 100, Loss: 0.0379\n",
            "Epoch 200, Loss: 0.0377\n",
            "Epoch 300, Loss: 0.0374\n",
            "Epoch 400, Loss: 0.0370\n",
            "Epoch 500, Loss: 0.0369\n",
            "Epoch 600, Loss: 0.0368\n",
            "Epoch 700, Loss: 0.0367\n",
            "Epoch 800, Loss: 0.0362\n",
            "Epoch 900, Loss: 0.0357\n",
            "Epoch 0, Loss: 0.0344\n",
            "Epoch 100, Loss: 0.0339\n",
            "Epoch 200, Loss: 0.0338\n",
            "Epoch 300, Loss: 0.0336\n",
            "Epoch 400, Loss: 0.0334\n",
            "Epoch 500, Loss: 0.0332\n",
            "Epoch 600, Loss: 0.0331\n",
            "Epoch 700, Loss: 0.0330\n",
            "Epoch 800, Loss: 0.0329\n",
            "Epoch 900, Loss: 0.0329\n",
            "Epoch 0, Loss: 0.0337\n",
            "Epoch 100, Loss: 0.0333\n",
            "Epoch 200, Loss: 0.0331\n",
            "Epoch 300, Loss: 0.0329\n",
            "Epoch 400, Loss: 0.0328\n",
            "Epoch 500, Loss: 0.0327\n",
            "Epoch 600, Loss: 0.0327\n",
            "Epoch 700, Loss: 0.0327\n",
            "Epoch 800, Loss: 0.0326\n",
            "Epoch 900, Loss: 0.0326\n",
            "Epoch 0, Loss: 0.0347\n",
            "Epoch 100, Loss: 0.0341\n",
            "Epoch 200, Loss: 0.0340\n",
            "Epoch 300, Loss: 0.0339\n",
            "Epoch 400, Loss: 0.0339\n",
            "Epoch 500, Loss: 0.0338\n",
            "Epoch 600, Loss: 0.0338\n",
            "Epoch 700, Loss: 0.0337\n",
            "Epoch 800, Loss: 0.0337\n",
            "Epoch 900, Loss: 0.0337\n",
            "Average Accuracy: 0.9507472384665366\n"
          ]
        }
      ]
    }
  ]
}